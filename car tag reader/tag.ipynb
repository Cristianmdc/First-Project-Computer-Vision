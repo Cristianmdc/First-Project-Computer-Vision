{
 "cells": [
  {
   "cell_type": "code",
   "execution_count": 1,
   "metadata": {},
   "outputs": [
    {
     "ename": "ModuleNotFoundError",
     "evalue": "No module named 'cv2'",
     "output_type": "error",
     "traceback": [
      "\u001b[1;31m---------------------------------------------------------------------------\u001b[0m",
      "\u001b[1;31mModuleNotFoundError\u001b[0m                       Traceback (most recent call last)",
      "Cell \u001b[1;32mIn[1], line 1\u001b[0m\n\u001b[1;32m----> 1\u001b[0m \u001b[38;5;28;01mimport\u001b[39;00m \u001b[38;5;21;01mcv2\u001b[39;00m\n\u001b[0;32m      3\u001b[0m \u001b[38;5;66;03m# Load the pre-trained license plate detection model (you can replace this with your own model)\u001b[39;00m\n\u001b[0;32m      4\u001b[0m plate_cascade \u001b[38;5;241m=\u001b[39m cv2\u001b[38;5;241m.\u001b[39mCascadeClassifier(\u001b[38;5;124m'\u001b[39m\u001b[38;5;124mpath/to/haarcascade_russian_plate_number.xml\u001b[39m\u001b[38;5;124m'\u001b[39m)\n",
      "\u001b[1;31mModuleNotFoundError\u001b[0m: No module named 'cv2'"
     ]
    }
   ],
   "source": [
    "import cv2\n",
    "\n",
    "# Load the pre-trained license plate detection model (you can replace this with your own model)\n",
    "plate_cascade = cv2.CascadeClassifier('path/to/haarcascade_russian_plate_number.xml')\n",
    "\n",
    "# Open the video file (replace 'path/to/your/video.mp4' with the actual path)\n",
    "video_path = 'D:\\Dropbox\\Personal\\mdc cris\\spring 2024\\CV\\car project\\20240212_132205.mp4'\n",
    "cap = cv2.VideoCapture(video_path)\n",
    "\n",
    "# Initialize video writer to save the output\n",
    "fourcc = cv2.VideoWriter_fourcc(*'XVID')\n",
    "output_path = 'output_video_with_plates.avi'\n",
    "out = cv2.VideoWriter(output_path, fourcc, 30.0, (int(cap.get(3)), int(cap.get(4))))\n",
    "\n",
    "while True:\n",
    "    ret, frame = cap.read()\n",
    "    if not ret:\n",
    "        break\n",
    "\n",
    "    # Convert frame to grayscale for license plate detection\n",
    "    gray = cv2.cvtColor(frame, cv2.COLOR_BGR2GRAY)\n",
    "\n",
    "    # Detect license plates\n",
    "    plates = plate_cascade.detectMultiScale(gray, scaleFactor=1.1, minNeighbors=5, minSize=(30, 30))\n",
    "\n",
    "    for (x, y, w, h) in plates:\n",
    "        # Draw bounding box around license plate\n",
    "        cv2.rectangle(frame, (x, y), (x + w, y + h), (0, 255, 0), 2)\n",
    "\n",
    "        # Extract license plate region\n",
    "        plate_roi = frame[y:y + h, x:x + w]\n",
    "\n",
    "        # Save license plate images (you can customize the filenames)\n",
    "        plate_filename = f'plate_{x}_{y}.jpg'\n",
    "        cv2.imwrite(plate_filename, plate_roi)\n",
    "\n",
    "    # Write the frame with bounding boxes to the output video\n",
    "    out.write(frame)\n",
    "\n",
    "    # Display the processed frame (optional)\n",
    "    cv2.imshow('License Plate Detection', frame)\n",
    "    if cv2.waitKey(1) & 0xFF == ord('q'):\n",
    "        break\n",
    "\n",
    "# Release video capture and writer\n",
    "cap.release()\n",
    "out.release()\n",
    "cv2.destroyAllWindows()\n",
    "\n",
    "print(f\"License plate images saved as {plate_filename}\")\n",
    "print(f\"Output video saved as {output_path}\")\n"
   ]
  }
 ],
 "metadata": {
  "kernelspec": {
   "display_name": ".venv",
   "language": "python",
   "name": "python3"
  },
  "language_info": {
   "codemirror_mode": {
    "name": "ipython",
    "version": 3
   },
   "file_extension": ".py",
   "mimetype": "text/x-python",
   "name": "python",
   "nbconvert_exporter": "python",
   "pygments_lexer": "ipython3",
   "version": "3.11.4"
  }
 },
 "nbformat": 4,
 "nbformat_minor": 2
}
